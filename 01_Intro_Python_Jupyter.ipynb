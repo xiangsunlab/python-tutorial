{
 "cells": [
  {
   "cell_type": "markdown",
   "metadata": {},
   "source": [
    "# Tutorial 01. Introduction to Python and Jupyter notebook\n",
    "\n",
    "This tutorial is the first in the seris to introduce basics of Python and how to run in the Jupyter notebook environment.\n",
    "\n",
    "First of all, Python is a line-by-line interpreter kind of language, which means the commands will be executed one line after the other, and when the current line has error you will see the error message. Python as an interpreted language (such as bash shell, perl, ruby, basic, etc.) is in contrast to compiled language (such as C/C++, Fortran, Java, etc.) that will be compiled by compiler to generate binary executable. \n",
    "\n",
    "Secnd, Python is `case-sensitive`, e.g. Mylist and mylist are different variables.\n",
    "\n",
    "Third, Python 2 and Python 3 have some differences in syntax, like division of integers and print statement. Here, we use Python 3 Anaconda distribution (download free from www.anaconda.com). \n",
    "\n",
    "Fourth, When should you use Python? Python is great for data analysis, post processing, text manipulation, plotting, web application, machine learning, etc. Python is not great for High-Performance Computing like runing molecular dynamics simulation.  "
   ]
  },
  {
   "cell_type": "code",
   "execution_count": 1,
   "metadata": {},
   "outputs": [
    {
     "name": "stdout",
     "output_type": "stream",
     "text": [
      "Hello World!\n"
     ]
    }
   ],
   "source": [
    "print(\"Hello World!\")"
   ]
  },
  {
   "cell_type": "markdown",
   "metadata": {},
   "source": [
    "# 1. Jupyter notebook\n",
    "\n",
    "To start jupyter notebook, after installed anaconda Python 3, you go to Terminal and run the following commands will initiate a local jupyter notebook environment and browser will automatically open http://localhost:8888/tree (here 8888 is the default port for Jupyter notebook, you may choose other value):\n",
    "\n",
    "`jupyter notebook`\n",
    "\n",
    "You may create a new notebook by clicking the up right `new` and choose Python 3, or click an existing notebook and start running it. What you are seeing is a Jupyter notebook, where you can execute Python commands by hitting `shift+enter` key or clicking the Run button to run a cell. Try the above \"Hello World\" command. Jupyter notebook is not the only option to run Python code / script, you can also run in the command line of your operating system. Here, we illustrate Python in Jupyter notebook. (There is also upgraded version called Jupyter Lab, which should more information, but for our purpose, notebook is enough.)"
   ]
  },
  {
   "cell_type": "markdown",
   "metadata": {},
   "source": [
    "(1) Different cells can be executed in the order you prefer and on the left will show the order index like \"In [2]\", which can be different from the appearing order from top to bottom (but still preferred for a cleaned up notebook). If the order index is \"In [\\*]\", it means still running.\n",
    "\n",
    "(2) Jupyter notebook can be saved (don't forget), which means all you see as text and pictures will be saved to disk (but not what is loaded in the memroy). Note that when you open an closed notebook, the symbol will become green (means running), but that doesn't mean the variables as loaded to the memory. You may need to run some cells (and the order index will be new ones). If you leave the notebook window by simply closing the browser window, the notebook will be still running in background (you can find the status from the folder view -> `running` tab), and if you want to release the memory by the notebook, you need to shutdown the notebook by clicking `shutdown` button.\n",
    "\n",
    "(3) Cells can be in different formats, the default would be `code` which means Python code (with green box outline when selected), and the other useful format is Markdown (with blue box outline when selected) like the current one, which allows you to write Markdown text to explain better than a comment in code. In Markdown, heading starts with #, and the more # you have the smaller header this line will be. Also, Latex is supported in Markdown as well, which should be put between a pair of `$$` s. Double click brings you back to editing mode to Markdown, where you can make modifications, then shift+enter will update the Markdown.\n",
    "\n",
    "$$ I = \\int_0^\\infty f(x) \\mathrm d x  $$\n",
    "\n",
    "(4) In Jupyter notebook you can run commands beyond Python, but you will need to install the packages, like shell or R. We will introduce how to run system commands from Jupyter notebook later in this series."
   ]
  },
  {
   "cell_type": "markdown",
   "metadata": {},
   "source": [
    "# 2. Python Basics\n",
    "\n",
    "Built-in types details can be found here: https://docs.python.org/3/library/stdtypes.html"
   ]
  },
  {
   "cell_type": "markdown",
   "metadata": {},
   "source": [
    "## 2.1 Built-in number types: integer, float, string, bool, complex"
   ]
  },
  {
   "cell_type": "code",
   "execution_count": 2,
   "metadata": {},
   "outputs": [
    {
     "name": "stdout",
     "output_type": "stream",
     "text": [
      "5 <class 'int'>\n",
      "5.0 8.336 <class 'float'> <class 'float'>\n",
      "Hello! <class 'str'>\n",
      "True <class 'bool'>\n"
     ]
    }
   ],
   "source": [
    "# In Python comment starts from # symbol even in the middle of a line\n",
    "# You don't need to declare the type of each variable, creating one like a duck, this one will be a duck.\n",
    "n = 5\n",
    "print(n, type(n))\n",
    "\n",
    "x = 5.    #comment: adding a . will make it a float number\n",
    "y = 8.336\n",
    "print(x, y, type(x), type(y))\n",
    "\n",
    "s = \"Hello!\"\n",
    "print(s, type(s))\n",
    "\n",
    "t = (n <= x)\n",
    "print(t, type(t))"
   ]
  },
  {
   "cell_type": "code",
   "execution_count": 3,
   "metadata": {},
   "outputs": [
    {
     "name": "stdout",
     "output_type": "stream",
     "text": [
      "(1.2+3.6j) <class 'complex'>\n",
      "(2.5+3.9j)\n",
      "(2.5-3.9j)\n"
     ]
    }
   ],
   "source": [
    "# Complex number type, use j for imaginary unit\n",
    "c = 1.2 + 3.6j\n",
    "print(c, type(c))\n",
    "c = complex(2.5, 3.9)\n",
    "print(c)\n",
    "print(c.conjugate())  "
   ]
  },
  {
   "cell_type": "code",
   "execution_count": 4,
   "metadata": {},
   "outputs": [
    {
     "name": "stdout",
     "output_type": "stream",
     "text": [
      "8.0\n",
      "2.0\n",
      "10.0\n",
      "2.5\n",
      "------------\n",
      "1.5\n",
      "2.0\n",
      "1\n",
      "1\n",
      "-4\n",
      "------------\n",
      "25.0\n",
      "25.0\n",
      "7\n"
     ]
    }
   ],
   "source": [
    "# Math operations\n",
    "x = 5.\n",
    "n = 3\n",
    "m = -7\n",
    "print(x + n)   # Addition;\n",
    "print(x - n)   # Subtraction;\n",
    "print(x * 2)   # Multiplication;\n",
    "print(x / 2)   # Division (float) \n",
    "print(\"------------\")\n",
    "print(n / 2)   # Division (integer): Python 3 style\n",
    "print(x // 2)  # Division (floored to round number)\n",
    "print(n // 2)  # Division (floored to round number)\n",
    "print(n % 2)   # Modulus\n",
    "print(m // 2)  # Division (floored to round number)\n",
    "print(\"------------\")\n",
    "print(x ** 2)  # Exponentiation;\n",
    "print(pow(x,2))# Exponentiation;\n",
    "print(abs(m))  # Absolute number"
   ]
  },
  {
   "cell_type": "code",
   "execution_count": 5,
   "metadata": {},
   "outputs": [
    {
     "name": "stdout",
     "output_type": "stream",
     "text": [
      "5.0 <class 'float'> 5 <class 'int'>\n",
      "3 <class 'int'> 3.0 <class 'float'>\n",
      "5.0 <class 'str'>\n"
     ]
    }
   ],
   "source": [
    "# cast into other type\n",
    "x = 5.\n",
    "n = 3\n",
    "print(x, type(x), int(x), type(int(x)))\n",
    "print(n, type(n), float(n), type(float(n)))\n",
    "print(str(x), type(str(x)))"
   ]
  },
  {
   "cell_type": "code",
   "execution_count": 6,
   "metadata": {},
   "outputs": [
    {
     "name": "stdout",
     "output_type": "stream",
     "text": [
      "2\n",
      "4\n"
     ]
    }
   ],
   "source": [
    "# += and *= act on x and replace the value in it. Try running this cell over and over again\n",
    "x = 1\n",
    "x += 1\n",
    "print(x)  # Prints \"4\", the first time\n",
    "x *= 2\n",
    "print(x)  # Prints \"8\", the first time"
   ]
  },
  {
   "cell_type": "code",
   "execution_count": 7,
   "metadata": {},
   "outputs": [
    {
     "name": "stdout",
     "output_type": "stream",
     "text": [
      "<class 'bool'>\n",
      "False\n",
      "True\n",
      "True\n",
      "True\n"
     ]
    }
   ],
   "source": [
    "# Logical operations\n",
    "t = True\n",
    "f = False\n",
    "print(type(t))\n",
    "print(t and f)  #AND\n",
    "print(t or f)   #OR\n",
    "print(not f)    #NOT\n",
    "print(t != f)   #XOR"
   ]
  },
  {
   "cell_type": "code",
   "execution_count": 8,
   "metadata": {},
   "outputs": [
    {
     "name": "stdout",
     "output_type": "stream",
     "text": [
      "hello World! 12\n",
      "HELLO WORLD!\n",
      "hello World!\n",
      "Hello world!\n",
      "\n",
      "hello world! 12\n",
      "he(L)(L)o wor(L)d! 12\n",
      "world\n",
      "h e l l o\n",
      "h-e-l-l-o\n"
     ]
    }
   ],
   "source": [
    "# String operations\n",
    "s = \"hello World!\"\n",
    "s = 'hello World!'    # single quote and double quote both will be fine\n",
    "print(s, len(s))      # print the string, and the lenght of the string\n",
    "print(s.upper())      # convert to all upper case letters, but not change the value in variable s\n",
    "print(s)\n",
    "print(s.capitalize()) # capitalize the first letter of a word \n",
    "\n",
    "print()               # print an empty line\n",
    "\n",
    "s1 = \"hello\"\n",
    "s2 = 'world!'\n",
    "s = '%s %s %d' % (s1, s2, 12) # sprintf style string formatting\n",
    "print(s)\n",
    "print(s.replace('l', '(L)'))  # Replace all instances of one substring with another;\n",
    "print('  world '.strip())     # Strip leading and trailing whitespace; prints \"world\"\n",
    "print(' '.join(s1))           # use space ' ' as separator to join the list of chars\n",
    "print('-'.join(s1))           # use dash '-' as separator to join the list of chars"
   ]
  },
  {
   "cell_type": "markdown",
   "metadata": {},
   "source": [
    "## 2.2 Mostly used sequence containers: list\n",
    "\n",
    "https://docs.python.org/3/tutorial/datastructures.html"
   ]
  },
  {
   "cell_type": "code",
   "execution_count": 9,
   "metadata": {},
   "outputs": [
    {
     "name": "stdout",
     "output_type": "stream",
     "text": [
      "[2, 3, 5.6, 7] 4\n",
      "5.6\n",
      "7\n",
      "7 [2, 3, 5.6]\n",
      "[2, 3, 5.6, 990]\n"
     ]
    }
   ],
   "source": [
    "# List creation, and different types of objects can be put in one list\n",
    "li = [2, 3, 5.6 , 7]\n",
    "print(li, len(li)) # print list and the lenght \n",
    "print(li[2])       # reference with index, starting from 0, 1, 2, 3\n",
    "print(li[-1])      # get the last element by [-1] index\n",
    "a = li.pop()       # remove and return the last element of the list\n",
    "print (a, li)\n",
    "\n",
    "b = 990       \n",
    "li.append(b)       # add an element to the end of the list\n",
    "print(li)"
   ]
  },
  {
   "cell_type": "markdown",
   "metadata": {},
   "source": [
    "### Copy list with Caution \n",
    "List assignment is dangerous. It happens \"by reference\" meaning when you say `b=[1,2,3]; a=b`, `a` and `b` point to the same place in memory. Here is what can happen:"
   ]
  },
  {
   "cell_type": "code",
   "execution_count": 10,
   "metadata": {},
   "outputs": [
    {
     "name": "stdout",
     "output_type": "stream",
     "text": [
      "[1, 2, 5] [1, 2, 5]\n",
      "[1, 2, 5] [1, 336, 5]\n"
     ]
    }
   ],
   "source": [
    "a = [1,2,3]\n",
    "b = a\n",
    "b[-1] = 5\n",
    "print(a, b)\n",
    "\n",
    "# To return a shallow copy \n",
    "c = a.copy()\n",
    "c[1] = 336\n",
    "print(a, c)"
   ]
  },
  {
   "cell_type": "markdown",
   "metadata": {},
   "source": [
    "### Slicing list elements"
   ]
  },
  {
   "cell_type": "code",
   "execution_count": 11,
   "metadata": {},
   "outputs": [
    {
     "name": "stdout",
     "output_type": "stream",
     "text": [
      "[0, 1, 2, 3, 4]\n",
      "[2, 3]\n",
      "[2, 3, 4]\n",
      "[0, 1]\n",
      "[0, 1, 2, 3, 4]\n",
      "[0, 1, 2, 3]\n",
      "[0, 1, 8, 9, 4]\n"
     ]
    }
   ],
   "source": [
    "# range is a built-in function that makes a list of integers from 0 to the number-1:\n",
    "# in python 2 it generates a list data type, but not in python 3, \n",
    "# so you have to turn what it gives back into a list as so:\n",
    "nums = list( range(5) )    \n",
    "print( nums )        # Prints \"[0, 1, 2, 3, 4]\"\n",
    "print( nums[2:4] )   # Get a slice from index 2 to 4 (exclusive); prints \"[2, 3]\"\n",
    "print( nums[2:] )    # Get a slice from index 2 to the end; prints \"[2, 3, 4]\"\n",
    "print( nums[:2] )    # Get a slice from the start to index 2 (exclusive); prints \"[0, 1]\"\n",
    "print( nums[:]  )    # Get a slice of the whole list; prints [\"0, 1, 2, 3, 4]\"\n",
    "print( nums[:-1] )   # Slice indices can be negative; prints [\"0, 1, 2, 3]\"\n",
    "nums[2:4] = [8, 9]   # Assign a new sublist to a slice\n",
    "print( nums  )       # Prints \"[0, 1, 8, 9, 4]\""
   ]
  },
  {
   "cell_type": "markdown",
   "metadata": {},
   "source": [
    "### List Comprehensions"
   ]
  },
  {
   "cell_type": "code",
   "execution_count": 12,
   "metadata": {},
   "outputs": [
    {
     "name": "stdout",
     "output_type": "stream",
     "text": [
      "[0, 1, 4, 9, 16]\n",
      "[0, 1, 4, 9, 16]\n",
      "[0, 4, 16]\n"
     ]
    }
   ],
   "source": [
    "# The straighforward way of getting squares\n",
    "nums = [0, 1, 2, 3, 4]\n",
    "squares = []\n",
    "for x in nums:\n",
    "    squares.append(x ** 2)\n",
    "print(squares)\n",
    "\n",
    "# The much more compact way using list comprehension\n",
    "nums = [0, 1, 2, 3, 4]\n",
    "squares = [x ** 2 for x in nums]\n",
    "print( squares )\n",
    "\n",
    "# List comprehension with conditions\n",
    "nums = [0, 1, 2, 3, 4]\n",
    "even_squares = [x ** 2 for x in nums if x % 2 == 0]\n",
    "print( even_squares )"
   ]
  },
  {
   "cell_type": "markdown",
   "metadata": {},
   "source": [
    "## 2.3 Loops and conditions\n",
    "\n",
    "It is important to note that inside the loop or if statement, after the line ending with \":\", the next line has to be **indented** to indicate the layer stucture usually indent by **4 spaces** (preferred) or 1 tab, do not mix these two. If the scope end, you just reindent back to the level of the for or if key word. "
   ]
  },
  {
   "cell_type": "markdown",
   "metadata": {},
   "source": [
    "### for loop"
   ]
  },
  {
   "cell_type": "code",
   "execution_count": 13,
   "metadata": {},
   "outputs": [
    {
     "name": "stdout",
     "output_type": "stream",
     "text": [
      " number  0\n",
      " number  1\n",
      " number  2\n",
      " number  3\n",
      " number  4\n"
     ]
    }
   ],
   "source": [
    "for i in range(5):\n",
    "    print(\" number \", i)"
   ]
  },
  {
   "cell_type": "code",
   "execution_count": 14,
   "metadata": {},
   "outputs": [
    {
     "name": "stdout",
     "output_type": "stream",
     "text": [
      "The sum is 48\n"
     ]
    }
   ],
   "source": [
    "numbers = [6, 5, 3, 8, 4, 2, 5, 4, 11]\n",
    "sum = 0\n",
    "\n",
    "for val in numbers:\n",
    "    sum = sum+val\n",
    "\n",
    "print(\"The sum is\", sum)"
   ]
  },
  {
   "cell_type": "code",
   "execution_count": 15,
   "metadata": {},
   "outputs": [
    {
     "name": "stdout",
     "output_type": "stream",
     "text": [
      "range(0, 10)\n",
      "[0, 1, 2, 3, 4, 5, 6, 7, 8, 9]\n",
      "[2, 3, 4, 5, 6, 7]\n",
      "[2, 5, 8, 11, 14, 17]\n"
     ]
    }
   ],
   "source": [
    "# range(start, stop, step_size)\n",
    "print(range(10))\n",
    "print(list(range(10)))\n",
    "print(list(range(2, 8)))\n",
    "print(list(range(2, 20, 3)))"
   ]
  },
  {
   "cell_type": "code",
   "execution_count": 16,
   "metadata": {},
   "outputs": [
    {
     "name": "stdout",
     "output_type": "stream",
     "text": [
      "I like pop\n",
      "I like rock\n",
      "I like jazz\n"
     ]
    }
   ],
   "source": [
    "genre = ['pop', 'rock', 'jazz']\n",
    "# iterate over the list using index\n",
    "for i in range(len(genre)):\n",
    "    print(\"I like\", genre[i])"
   ]
  },
  {
   "cell_type": "code",
   "execution_count": 17,
   "metadata": {},
   "outputs": [
    {
     "name": "stdout",
     "output_type": "stream",
     "text": [
      "bird\n",
      "fish\n",
      "cat\n",
      "dog\n",
      "monkey\n"
     ]
    }
   ],
   "source": [
    "animals = ['bird','fish','cat', 'dog', 'monkey']\n",
    "for animal in animals:\n",
    "    print(animal)"
   ]
  },
  {
   "cell_type": "code",
   "execution_count": 18,
   "metadata": {},
   "outputs": [
    {
     "name": "stdout",
     "output_type": "stream",
     "text": [
      "#1: bird\n",
      "I have a bird\n",
      "#2: fish\n",
      "I have a fish\n",
      "#3: cat\n",
      "Hello Kitty~\n",
      "#4: dog\n"
     ]
    }
   ],
   "source": [
    "# use enumerate to also have index when loop over list\n",
    "# break out of the loop, continue to next\n",
    "animals = ['bird','fish','cat', 'dog', 'monkey']\n",
    "for idx, animal in enumerate(animals):\n",
    "    print( '#%d: %s' % (idx + 1, animal) )\n",
    "    if (animal == 'dog'):\n",
    "        break\n",
    "    if (animal == 'cat'):\n",
    "        print(\"Hello Kitty~\")\n",
    "        continue\n",
    "    print( 'I have a %s' % (animal) )"
   ]
  },
  {
   "cell_type": "markdown",
   "metadata": {},
   "source": [
    "### while loop"
   ]
  },
  {
   "cell_type": "code",
   "execution_count": 19,
   "metadata": {},
   "outputs": [
    {
     "name": "stdout",
     "output_type": "stream",
     "text": [
      "The sum is 55\n"
     ]
    }
   ],
   "source": [
    "n = 10\n",
    "sum = 0\n",
    "i = 1\n",
    "\n",
    "while i <= n:\n",
    "    sum = sum + i\n",
    "    i = i+1    # update counter\n",
    "\n",
    "# print the sum\n",
    "print(\"The sum is\", sum)"
   ]
  },
  {
   "cell_type": "markdown",
   "metadata": {},
   "source": [
    "### if ... else statement"
   ]
  },
  {
   "cell_type": "code",
   "execution_count": 20,
   "metadata": {},
   "outputs": [
    {
     "name": "stdout",
     "output_type": "stream",
     "text": [
      "3 is a positive number.\n",
      "This is always printed.\n",
      "This is a non-positive number.\n"
     ]
    }
   ],
   "source": [
    "num = 3\n",
    "if num > 0:\n",
    "    print(num, \"is a positive number.\")\n",
    "print(\"This is always printed.\")\n",
    "\n",
    "num = -1\n",
    "if num > 0:\n",
    "    print(num, \"is a positive number.\")\n",
    "else:\n",
    "    print(\"This is a non-positive number.\")"
   ]
  },
  {
   "cell_type": "code",
   "execution_count": 21,
   "metadata": {},
   "outputs": [
    {
     "name": "stdout",
     "output_type": "stream",
     "text": [
      "Positive number\n"
     ]
    }
   ],
   "source": [
    "#if...elif...else statement\n",
    "num = 3.14\n",
    "if num > 0:\n",
    "    print(\"Positive number\")\n",
    "elif num == 0:\n",
    "    print(\"Zero\")\n",
    "else:\n",
    "    print(\"Negative number\")"
   ]
  },
  {
   "cell_type": "code",
   "execution_count": 22,
   "metadata": {},
   "outputs": [
    {
     "name": "stdout",
     "output_type": "stream",
     "text": [
      "Enter a number: 2\n",
      "Positive number\n"
     ]
    }
   ],
   "source": [
    "# nested if... else statement\n",
    "num = float(input(\"Enter a number: \"))\n",
    "if num >= 0:\n",
    "    if num == 0:\n",
    "        print(\"Zero\")\n",
    "    else:\n",
    "        print(\"Positive number\")\n",
    "else:\n",
    "    print(\"Negative number\")"
   ]
  },
  {
   "cell_type": "markdown",
   "metadata": {},
   "source": [
    "## 2.4 Define your own functions"
   ]
  },
  {
   "cell_type": "code",
   "execution_count": 23,
   "metadata": {},
   "outputs": [
    {
     "name": "stdout",
     "output_type": "stream",
     "text": [
      "negative\n",
      "zero\n",
      "positive\n"
     ]
    }
   ],
   "source": [
    "def sign(x):   #define the functioin called sign(x) with one argument x\n",
    "    if x > 0:\n",
    "        return 'positive'\n",
    "    elif x < 0:\n",
    "        return 'negative'\n",
    "    else:\n",
    "        return 'zero'\n",
    "\n",
    "for x in [-1, 0, 1]:\n",
    "    print( sign(x) )   # call this sign(x) function"
   ]
  },
  {
   "cell_type": "code",
   "execution_count": 24,
   "metadata": {},
   "outputs": [
    {
     "name": "stdout",
     "output_type": "stream",
     "text": [
      "[1, 1, 2, 3, 6, 8, 10]\n"
     ]
    }
   ],
   "source": [
    "# recursive function call\n",
    "def quicksort(arr):\n",
    "    if len(arr) <= 1:\n",
    "        return arr\n",
    "    pivot = arr[len(arr) // 2]\n",
    "    left = [x for x in arr if x < pivot]\n",
    "    middle = [x for x in arr if x == pivot]\n",
    "    right = [x for x in arr if x > pivot]\n",
    "    return quicksort(left) + middle + quicksort(right)\n",
    "\n",
    "print( quicksort([3,6,8,10,1,2,1]) )"
   ]
  },
  {
   "cell_type": "code",
   "execution_count": 25,
   "metadata": {},
   "outputs": [
    {
     "name": "stdout",
     "output_type": "stream",
     "text": [
      "10\n"
     ]
    }
   ],
   "source": [
    "# Lambda function: many arguments but one expression (inline function)\n",
    "multi2 = lambda x: x * 2\n",
    "print(multi2(5))"
   ]
  },
  {
   "cell_type": "code",
   "execution_count": 26,
   "metadata": {},
   "outputs": [
    {
     "name": "stdout",
     "output_type": "stream",
     "text": [
      "[4, 6, 8, 12]\n",
      "[2, 10, 8, 12, 16, 22, 6, 24]\n"
     ]
    }
   ],
   "source": [
    "# Use Lambda function in list\n",
    "my_list = [1, 5, 4, 6, 8, 11, 3, 12]\n",
    "new_list = list(filter(lambda x: (x%2 == 0) , my_list))\n",
    "print(new_list)\n",
    "\n",
    "new_list = list(map(lambda x: x * 2 , my_list))\n",
    "print(new_list)"
   ]
  },
  {
   "cell_type": "code",
   "execution_count": null,
   "metadata": {},
   "outputs": [],
   "source": []
  }
 ],
 "metadata": {
  "kernelspec": {
   "display_name": "Python 3",
   "language": "python",
   "name": "python3"
  },
  "language_info": {
   "codemirror_mode": {
    "name": "ipython",
    "version": 3
   },
   "file_extension": ".py",
   "mimetype": "text/x-python",
   "name": "python",
   "nbconvert_exporter": "python",
   "pygments_lexer": "ipython3",
   "version": "3.7.6"
  }
 },
 "nbformat": 4,
 "nbformat_minor": 4
}
