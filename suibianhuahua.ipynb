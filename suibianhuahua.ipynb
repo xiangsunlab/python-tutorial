{
 "cells": [
  {
   "cell_type": "code",
   "execution_count": null,
   "metadata": {},
   "outputs": [],
   "source": [
    "#quick import of all basic functions to draw simple plot\n",
    "import pandas as pd\n",
    "import numpy as np\n",
    "import matplotlib\n",
    "import matplotlib.pyplot as plt\n",
    "import math\n",
    "import statsmodels.api as sm\n",
    "import statistics as st"
   ]
  },
  {
   "cell_type": "markdown",
   "metadata": {},
   "source": [
    "# 把数据给我～"
   ]
  },
  {
   "cell_type": "code",
   "execution_count": null,
   "metadata": {},
   "outputs": [],
   "source": [
    "#For txt data without any separator \n",
    "DATA_txt = np.loadtxt('FL/NLR/NVE/K_PI-to-CT1.dat')  \n",
    "\n",
    "#For comma separated data (with or without header on the first line)\n",
    "DATA_csv = pd.read_csv('FB/NLR/NVE/SD/sd_ct1.csv')\n",
    "DATA_csv_no_header = pd.read_csv('FB/NLR/NVE/SD/sd_ct1.csv',header = None)\n"
   ]
  },
  {
   "cell_type": "code",
   "execution_count": null,
   "metadata": {},
   "outputs": [],
   "source": [
    "###simply check type, size, and preview of your data \n",
    "DATA_txt.head(5)"
   ]
  },
  {
   "cell_type": "code",
   "execution_count": null,
   "metadata": {},
   "outputs": [],
   "source": [
    "###simply check type, size, and preview of your data \n",
    "DATA_csv.head(5)"
   ]
  },
  {
   "cell_type": "code",
   "execution_count": null,
   "metadata": {},
   "outputs": [],
   "source": [
    "###simply check type, size, and preview of your data \n",
    "DATA_csv_no_header.head(5)"
   ]
  },
  {
   "cell_type": "code",
   "execution_count": null,
   "metadata": {},
   "outputs": [],
   "source": [
    "X_axis =\n",
    "Y_axis = "
   ]
  },
  {
   "cell_type": "code",
   "execution_count": null,
   "metadata": {},
   "outputs": [],
   "source": [
    "## For error bar \n",
    "yerr_data = "
   ]
  },
  {
   "cell_type": "code",
   "execution_count": null,
   "metadata": {},
   "outputs": [],
   "source": [
    "#For MORE and MORE DATA\n",
    "X1 = \n",
    "Y1 = \n",
    "X2 =\n",
    "Y2 =\n",
    "X3 = \n",
    "Y3 = "
   ]
  },
  {
   "cell_type": "code",
   "execution_count": null,
   "metadata": {},
   "outputs": [],
   "source": [
    "#simple time generator\n",
    "timestep = 0.01\n",
    "time = [i*timestep for i in range(0,10,1)] ###(start, stop, index interval)\n",
    "time2 = [j*timestep for j in range(0,100,1)]\n",
    "time3 = [k*timestep for k in range(0,1000,1)]"
   ]
  },
  {
   "cell_type": "markdown",
   "metadata": {},
   "source": [
    "# 随便画画时刻！"
   ]
  },
  {
   "cell_type": "code",
   "execution_count": null,
   "metadata": {},
   "outputs": [],
   "source": [
    "### PLOT NOW ! ### SHIFT + ENTER = DONE！\n",
    "\n",
    "#### DRAW 1 BIG PLOT ####\n",
    "\n",
    "plt.figure(figsize = (20,8)) # size \n",
    "plt.suptitle(r'Plot Title Here',fontsize=30, fontweight = 'bold',color='k') # Title \n",
    "\n",
    "##DATA TO PLOT\n",
    "plt.plot(X_axis,Y_axis,color='b',lw=3,label='LABEL HERE') #Simple line plot\n",
    "#plt.plot(Y_axis,color='b',lw=3,label='LABEL HERE') #Simple line plot with default x axis ( step or no of data,etc)\n",
    "#plt.plot(X1,Y1,color='b',lw=3,label='LABEL HERE') # for more data\n",
    "#plt.plot(X2,Y2,color='b',lw=3,label='LABEL HERE')\n",
    "#plt.plot(X3,Y3,color='b',lw=3,label='LABEL HERE')\n",
    "#plt.plot((X_axis,Y_axis,color='b', marker ='D',markevery=10, markersize = 10,lw=3,label='LR') #Line plot with marker \n",
    "#plt.errorbar(X_axis,Y_axis,yerr =yerr_data,fmt = 'k', capsize =8,errorevery=250) # plot errorbar \n",
    "\n",
    "         \n",
    "         \n",
    "##PLOTTING PARAMETER\n",
    "#plt.ylim([1,10]) # set y limit\n",
    "#plt.xlim([0,2]) # set x limit\n",
    "plt.xlabel(r\"$xlabel$\", fontsize=24)\n",
    "plt.ylabel(r\"$ylabel$\", fontsize=24)\n",
    "plt.legend(fontsize=16,frameon =False)\n",
    "plt.tick_params(labelsize=16, length=6, width=2)\n",
    "plt.savefig('PLOT_NAME.png')\n"
   ]
  },
  {
   "cell_type": "code",
   "execution_count": null,
   "metadata": {},
   "outputs": [],
   "source": [
    "### PLOT NOW ! ### SHIFT + ENTER = DONE！\n",
    "\n",
    "#### DRAW 2 PLOT side by side ####\n",
    "\n",
    "plt.figure(figsize = (20,8)) # size \n",
    "plt.suptitle(r'Plot Title Here',fontsize=30, fontweight = 'bold',color='k') # Title \n",
    "### LEFT PLOT\n",
    "plt.subplot (1,2,1) #( Row, Column, order of plot; order = from 1st row left to right, 2nd row left to right and so on)\n",
    "\n",
    "plt.plot(X_axis,Y_axis,color='b',lw=3,label='LABEL HERE') #Simple line plot\n",
    "plt.plot((X_axis,Y_axis,color='b', marker ='D',markevery=10, markersize = 10,lw=3,label='LR') #Line plot with marker \n",
    "#plt.errorbar(X_axis,Y_axis,yerr =yerr_data,fmt = 'k', capsize =8,errorevery=250) # plot errorbar \n",
    "\n",
    "#plt.plot(time,Y1,color='r',lw=3,label='LABEL HERE') #Simple line plot\n",
    "#plt.plot(time,Y2,color='m', marker ='D',markevery=10, markersize = 10,lw=3,label='LR') #Line plot with marker \n",
    "         \n",
    "##PLOTTING PARAMETER\n",
    "#plt.ylim([1,10]) # set y limit\n",
    "#plt.xlim([0,2]) # set x limit\n",
    "plt.xlabel(r\"$xlabel$\", fontsize=24)\n",
    "plt.ylabel(r\"$ylabel$\", fontsize=24)\n",
    "plt.legend(fontsize=16,frameon =False)\n",
    "plt.tick_params(labelsize=16, length=6, width=2)\n",
    "plt.savefig('PLOT_LEFT.png')\n",
    "\n",
    "\n",
    "##################################################################################################################\n",
    "### RIGHT PLOT\n",
    "plt.subplot (1,2,2)\n",
    "         \n",
    "plt.plot(X_axis,Y_axis,color='k',lw=3,label='LABEL HERE') #Simple line plot\n",
    "plt.plot((X_axis,Y_axis,color='k', marker ='D',markevery=10, markersize = 10,lw=3,label='LR') #Line plot with marker \n",
    "#plt.errorbar(X_axis,Y_axis,yerr =yerr_data,fmt = 'k', capsize =8,errorevery=250) # plot errorbar \n",
    "         \n",
    "##PLOTTING PARAMETER\n",
    "#plt.ylim([1,10]) # set y limit\n",
    "#plt.xlim([0,2]) # set x limit\n",
    "plt.xlabel(r\"$xlabel$\", fontsize=24)\n",
    "plt.ylabel(r\"$ylabel$\", fontsize=24)\n",
    "plt.legend(fontsize=16,frameon =False)\n",
    "plt.tick_params(labelsize=16, length=6, width=2)\n",
    "plt.savefig('PLOT_RIGHT.png')        "
   ]
  }
 ],
 "metadata": {
  "kernelspec": {
   "display_name": "Python 3",
   "language": "python",
   "name": "python3"
  },
  "language_info": {
   "codemirror_mode": {
    "name": "ipython",
    "version": 3
   },
   "file_extension": ".py",
   "mimetype": "text/x-python",
   "name": "python",
   "nbconvert_exporter": "python",
   "pygments_lexer": "ipython3",
   "version": "3.7.6"
  }
 },
 "nbformat": 4,
 "nbformat_minor": 4
}
